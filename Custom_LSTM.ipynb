{
 "cells": [
  {
   "cell_type": "code",
   "execution_count": null,
   "metadata": {
    "collapsed": true
   },
   "outputs": [],
   "source": [
    "# Chad Lohrli A14218619 | COGS 181 Final Project\n",
    "\n",
    "# Description: This code allows users to build, train, and test 3 different LSTM Recurrent Nerual Networks\n",
    "# as well as generate samples texts from the learned models \n",
    "\n",
    "# Disclaimer:\n",
    "# This code is inspired from Andrej Karpathy's Char-RNN https://gist.github.com/karpathy/d4dee566867f8291f086\n",
    "# and fchollet's implementation in Keras https://github.com/fchollet/keras/blob/master/examples/lstm_text_generation.py"
   ]
  },
  {
   "cell_type": "code",
   "execution_count": 7,
   "metadata": {
    "collapsed": true
   },
   "outputs": [],
   "source": [
    "#Libraries\n",
    "from __future__ import print_function\n",
    "from keras.models import Sequential\n",
    "from keras.layers import Dense, Activation, Dropout\n",
    "from keras.layers import LSTM\n",
    "from keras.optimizers import RMSprop\n",
    "from keras.utils.data_utils import get_file\n",
    "from keras.callbacks import ModelCheckpoint\n",
    "from keras.utils import np_utils\n",
    "import numpy as np\n",
    "import random\n",
    "import sys\n",
    "import matplotlib.pyplot as plt\n",
    "%matplotlib inline\n",
    "\n",
    "\n",
    "def parseText(text,maxlen,step):\n",
    "    text = open(text).read()\n",
    "    print('corpus length:', len(text))\n",
    "\n",
    "    chars = sorted(list(set(text)))\n",
    "    print('total chars:', len(chars))\n",
    "    char2idx = dict((c, i) for i, c in enumerate(chars))\n",
    "    idx2char = dict((i, c) for i, c in enumerate(chars))\n",
    "\n",
    "    # cut the text in semi-redundant sequences of maxlen characters\n",
    "    #maxlen = 95\n",
    "    #step = 3\n",
    "    \n",
    "    sentences = []\n",
    "    next_chars = []\n",
    "    for i in range(0, len(text) - maxlen, step):\n",
    "        sentences.append(text[i: i + maxlen])\n",
    "        next_chars.append(text[i + maxlen])\n",
    "    print('nb sequences:', len(sentences))\n",
    "\n",
    "\n",
    "    print('Vectorization...')\n",
    "    x = np.zeros((len(sentences), maxlen, len(chars)), dtype=np.bool)\n",
    "    y = np.zeros((len(sentences), len(chars)), dtype=np.bool)\n",
    "    for i, sentence in enumerate(sentences):\n",
    "        for t, char in enumerate(sentence):\n",
    "            x[i, t, char2idx[char]] = 1\n",
    "        y[i, char2idx[next_chars[i]]] = 1\n",
    "        \n",
    "    return text,len(chars),len(text),char2idx,idx2char,x,y\n",
    "\n",
    "\n",
    "def buildModel(choice,vocab,text,weightFile='',dropout=False):\n",
    "    print('Build model')\n",
    "    \n",
    "    #base model\n",
    "    model = Sequential()\n",
    "    \n",
    "    #Model A\n",
    "    if(choice == 1):\n",
    "\n",
    "        model.add(LSTM(256, input_shape=(maxlen, vocab)))\n",
    "        model.add(Dense(vocab))\n",
    "        model.add(Activation('softmax'))\n",
    "    \n",
    "        if(len(weightFile) != 0):\n",
    "            model.load_weights(weightFile)\n",
    "            \n",
    "        model.compile(loss='categorical_crossentropy', optimizer='adam')\n",
    "        return model\n",
    "    \n",
    "    #Model B\n",
    "    if(choice == 2):\n",
    "        \n",
    "        model.add(LSTM(256, input_shape=(maxlen, vocab),return_sequences=True))\n",
    "        if(dropout):\n",
    "            model.add(Dropout(0.2))\n",
    "        model.add(LSTM(256))\n",
    "        model.add(Dense(vocab))\n",
    "        model.add(Activation('softmax'))\n",
    "    \n",
    "        if(len(weightFile) != 0):\n",
    "            model.load_weights(weightFile)\n",
    "            \n",
    "        model.compile(loss='categorical_crossentropy', optimizer='adam')\n",
    "        \n",
    "        return model\n",
    "    \n",
    "    #Model C\n",
    "    if(choice == 3):\n",
    "        \n",
    "        model.add(LSTM(512, input_shape=(maxlen, vocab),return_sequences=True))\n",
    "        model.add(LSTM(512,return_sequences=True))\n",
    "        model.add(LSTM(512))\n",
    "        model.add(Dense(vocab))\n",
    "        model.add(Activation('softmax'))\n",
    "    \n",
    "        if(len(weightFile) != 0):\n",
    "            model.load_weights(weightFile)\n",
    "            \n",
    "        model.compile(loss='categorical_crossentropy', optimizer='adam')\n",
    "        \n",
    "        return model\n",
    "\n",
    "    print(\"please choose index from 1,2,3\")\n",
    "    return\n",
    " \n",
    "def trainModel(choice,x,y,model,text,batch_size,epochs):\n",
    "    \n",
    "    modelName = \"\"\n",
    "    if(choice == 1):\n",
    "        modelName = \"Model_A\"\n",
    "    elif(choice == 2):\n",
    "        modelName = \"Model_B\"\n",
    "    elif(choice == 3):\n",
    "        modelName = \"Model_C\"\n",
    "    \n",
    "    #setup file for saving weights\n",
    "    saveFile = text + \"-\" + modelName + \"-{epoch:02d}-{loss:.4f}.hdf5\"\n",
    "    checkpoint = ModelCheckpoint(saveFile, monitor='loss', verbose=1, save_best_only=True, mode='min')\n",
    "    callbacks_list = [checkpoint]\n",
    "    \n",
    "    #train\n",
    "    history = model.fit(x, y,batch_size=batch_size,epochs=epochs,callbacks=callbacks_list)\n",
    "    return history\n",
    "\n",
    "def plotLoss(history):\n",
    "    print(history.history.keys())\n",
    "    plt.plot(history.history['loss'])\n",
    "    plt.title('model loss')\n",
    "    plt.ylabel('loss')\n",
    "    plt.xlabel('epoch')\n",
    "    plt.legend(['train', 'test'], loc='upper left')\n",
    "    plt.show()\n",
    "\n",
    "def sample(preds, temperature=1.0):\n",
    "    # helper function to sample an index from a probability array\n",
    "    preds = np.asarray(preds).astype('float64')\n",
    "    preds = np.log(preds) / temperature\n",
    "    exp_preds = np.exp(preds)\n",
    "    preds = exp_preds / np.sum(exp_preds)\n",
    "    probas = np.random.multinomial(1, preds, 1)\n",
    "    return np.argmax(probas)\n",
    "\n",
    "\n",
    "def generateText(dataset,corpus,vocab,maxlen,sampleLength,char2idx,idx2char,temp):\n",
    "    \n",
    "    #random seed\n",
    "    start_index = random.randint(0, corpus - maxlen - 1)\n",
    "    \n",
    "    generated = ''\n",
    "    sentence = dataset[start_index: start_index + maxlen]\n",
    "    generated += sentence\n",
    "    \n",
    "    print(\"--Seed--\")\n",
    "    print('\"' + sentence + '\"')\n",
    "    print()\n",
    "    \n",
    "    for i in range(sampleLength):\n",
    "        x_pred = np.zeros((1, maxlen, vocab))\n",
    "        for t, char in enumerate(sentence):\n",
    "            x_pred[0, t, char2idx[char]] = 1.\n",
    "\n",
    "        preds = model.predict(x_pred, verbose=0)[0]\n",
    "        next_index = sample(preds, temp)\n",
    "        next_char = idx2char[next_index]\n",
    "\n",
    "        generated += next_char\n",
    "        sentence = sentence[1:] + next_char\n",
    "\n",
    "        sys.stdout.write(next_char)\n",
    "        sys.stdout.flush()\n",
    "    print()\n",
    "\n",
    "#input params\n",
    "text = \"shuffled_tweets_10k.txt\" #dataset\n",
    "maxlen = 95 #length of sequences\n",
    "step = 3 #splits dataset according to step\n",
    "choice = 3 #choice of model \n",
    "weightFile = \"shuffled_tweets-10k.txt-Model_C-11-0.7177.hdf5\" #load weights from file"
   ]
  },
  {
   "cell_type": "code",
   "execution_count": 2,
   "metadata": {},
   "outputs": [
    {
     "name": "stdout",
     "output_type": "stream",
     "text": [
      "corpus length: 1035027\n",
      "total chars: 176\n",
      "nb sequences: 344978\n",
      "Vectorization...\n"
     ]
    }
   ],
   "source": [
    "#parse text and create mappings and gather necessary variables \n",
    "#vocab = len(chars) | corpus = len(text)\n",
    "\n",
    "dataset,vocab,corpus,char2idx,idx2char,x,y = parseText(text,maxlen,step)"
   ]
  },
  {
   "cell_type": "code",
   "execution_count": 8,
   "metadata": {},
   "outputs": [
    {
     "name": "stdout",
     "output_type": "stream",
     "text": [
      "Build model\n"
     ]
    }
   ],
   "source": [
    "#buid model\n",
    "\n",
    "batch_size = 256\n",
    "epochs = 10\n",
    "\n",
    "model = buildModel(choice,vocab,text,weightFile)"
   ]
  },
  {
   "cell_type": "code",
   "execution_count": null,
   "metadata": {
    "collapsed": true
   },
   "outputs": [],
   "source": [
    "#train model\n",
    "history = trainModel(choice,x,y,model,text,batch_size,epochs)"
   ]
  },
  {
   "cell_type": "code",
   "execution_count": 2,
   "metadata": {},
   "outputs": [
    {
     "name": "stdout",
     "output_type": "stream",
     "text": [
      "\n"
     ]
    }
   ],
   "source": [
    "#generate text\n",
    "\n",
    "sampleLength = 400 #number of characters to output\n",
    "temp = 0.4 #deterministic factor for samples\n",
    "\n",
    "generateText(dataset,corpus,vocab,maxlen,sampleLength,char2idx,idx2char,temp)"
   ]
  },
  {
   "cell_type": "code",
   "execution_count": null,
   "metadata": {
    "collapsed": true
   },
   "outputs": [],
   "source": []
  }
 ],
 "metadata": {
  "kernelspec": {
   "display_name": "Python 2",
   "language": "python",
   "name": "python2"
  },
  "language_info": {
   "codemirror_mode": {
    "name": "ipython",
    "version": 2
   },
   "file_extension": ".py",
   "mimetype": "text/x-python",
   "name": "python",
   "nbconvert_exporter": "python",
   "pygments_lexer": "ipython2",
   "version": "2.7.13"
  }
 },
 "nbformat": 4,
 "nbformat_minor": 2
}
